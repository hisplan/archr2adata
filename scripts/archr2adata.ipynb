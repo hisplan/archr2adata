{
 "cells": [
  {
   "cell_type": "code",
   "execution_count": 6,
   "metadata": {
    "ExecuteTime": {
     "end_time": "2020-07-14T17:59:46.189926Z",
     "start_time": "2020-07-14T17:59:46.186918Z"
    }
   },
   "outputs": [],
   "source": [
    "import os\n",
    "import pandas as pd\n",
    "import scanpy as sc\n",
    "import scipy.io"
   ]
  },
  {
   "cell_type": "code",
   "execution_count": 11,
   "metadata": {
    "ExecuteTime": {
     "end_time": "2020-07-14T17:59:57.262079Z",
     "start_time": "2020-07-14T17:59:57.259638Z"
    }
   },
   "outputs": [],
   "source": [
    "path_data = \"tests/outs2\""
   ]
  },
  {
   "cell_type": "markdown",
   "metadata": {},
   "source": [
    "# Load"
   ]
  },
  {
   "cell_type": "code",
   "execution_count": 28,
   "metadata": {
    "ExecuteTime": {
     "end_time": "2020-07-14T18:10:19.651532Z",
     "start_time": "2020-07-14T18:10:19.638005Z"
    }
   },
   "outputs": [],
   "source": [
    "barcodes = pd.read_csv(\n",
    "    os.path.join(path_data, \"peak_counts/cells.csv.gz\"),\n",
    "    skiprows=[0], header=None\n",
    ")[1]"
   ]
  },
  {
   "cell_type": "code",
   "execution_count": 29,
   "metadata": {
    "ExecuteTime": {
     "end_time": "2020-07-14T18:10:20.452190Z",
     "start_time": "2020-07-14T18:10:20.447531Z"
    }
   },
   "outputs": [
    {
     "data": {
      "text/plain": [
       "0        BMMC#TTATGTCAGTGATTAG-1\n",
       "1        BMMC#GCATTGAAGATTCCGT-1\n",
       "2        BMMC#TATGTTCAGGGTTCCC-1\n",
       "3        BMMC#AGTTACGAGAACGTCG-1\n",
       "4        BMMC#GCACCTTAGACTAGCG-1\n",
       "                  ...           \n",
       "10247    PBMC#GCTGCGAAGATCCGAG-1\n",
       "10248    PBMC#GCAGCTGGTGGCCTTG-1\n",
       "10249    PBMC#GCAGATTGTACGCAAG-1\n",
       "10250    PBMC#TTCGTTACATTGAACC-1\n",
       "10251    PBMC#CGCTATCGTGAGGTCA-1\n",
       "Name: 1, Length: 10252, dtype: object"
      ]
     },
     "execution_count": 29,
     "metadata": {},
     "output_type": "execute_result"
    }
   ],
   "source": [
    "barcodes"
   ]
  },
  {
   "cell_type": "code",
   "execution_count": 14,
   "metadata": {
    "ExecuteTime": {
     "end_time": "2020-07-14T18:00:02.350092Z",
     "start_time": "2020-07-14T18:00:01.987043Z"
    }
   },
   "outputs": [],
   "source": [
    "peaks = pd.read_csv(\n",
    "    os.path.join(path_data, \"peak_counts/peaks.csv.gz\"),\n",
    "    index_col=0\n",
    ")"
   ]
  },
  {
   "cell_type": "code",
   "execution_count": 15,
   "metadata": {
    "ExecuteTime": {
     "end_time": "2020-07-14T18:00:02.807127Z",
     "start_time": "2020-07-14T18:00:02.776251Z"
    }
   },
   "outputs": [
    {
     "data": {
      "text/html": [
       "<div>\n",
       "<style scoped>\n",
       "    .dataframe tbody tr th:only-of-type {\n",
       "        vertical-align: middle;\n",
       "    }\n",
       "\n",
       "    .dataframe tbody tr th {\n",
       "        vertical-align: top;\n",
       "    }\n",
       "\n",
       "    .dataframe thead th {\n",
       "        text-align: right;\n",
       "    }\n",
       "</style>\n",
       "<table border=\"1\" class=\"dataframe\">\n",
       "  <thead>\n",
       "    <tr style=\"text-align: right;\">\n",
       "      <th></th>\n",
       "      <th>seqnames</th>\n",
       "      <th>start</th>\n",
       "      <th>end</th>\n",
       "      <th>width</th>\n",
       "      <th>strand</th>\n",
       "      <th>score</th>\n",
       "      <th>replicateScoreQuantile</th>\n",
       "      <th>groupScoreQuantile</th>\n",
       "      <th>Reproducibility</th>\n",
       "      <th>GroupReplicate</th>\n",
       "      <th>distToGeneStart</th>\n",
       "      <th>nearestGene</th>\n",
       "      <th>peakType</th>\n",
       "      <th>distToTSS</th>\n",
       "      <th>nearestTSS</th>\n",
       "      <th>GC</th>\n",
       "      <th>idx</th>\n",
       "    </tr>\n",
       "  </thead>\n",
       "  <tbody>\n",
       "    <tr>\n",
       "      <th>Peak1</th>\n",
       "      <td>chr1</td>\n",
       "      <td>752498</td>\n",
       "      <td>752998</td>\n",
       "      <td>501</td>\n",
       "      <td>*</td>\n",
       "      <td>43.81347</td>\n",
       "      <td>0.919</td>\n",
       "      <td>0.641</td>\n",
       "      <td>2</td>\n",
       "      <td>C8._.BMMC</td>\n",
       "      <td>10153</td>\n",
       "      <td>LINC00115</td>\n",
       "      <td>Distal</td>\n",
       "      <td>10153</td>\n",
       "      <td>uc001aau.3</td>\n",
       "      <td>0.4830</td>\n",
       "      <td>1</td>\n",
       "    </tr>\n",
       "    <tr>\n",
       "      <th>Peak2</th>\n",
       "      <td>chr1</td>\n",
       "      <td>762687</td>\n",
       "      <td>763187</td>\n",
       "      <td>501</td>\n",
       "      <td>*</td>\n",
       "      <td>42.00397</td>\n",
       "      <td>0.917</td>\n",
       "      <td>0.819</td>\n",
       "      <td>2</td>\n",
       "      <td>C2._.PBMC</td>\n",
       "      <td>33</td>\n",
       "      <td>LINC01128</td>\n",
       "      <td>Promoter</td>\n",
       "      <td>33</td>\n",
       "      <td>uc021oeh.1</td>\n",
       "      <td>0.6946</td>\n",
       "      <td>2</td>\n",
       "    </tr>\n",
       "    <tr>\n",
       "      <th>Peak3</th>\n",
       "      <td>chr1</td>\n",
       "      <td>793283</td>\n",
       "      <td>793783</td>\n",
       "      <td>501</td>\n",
       "      <td>*</td>\n",
       "      <td>3.47961</td>\n",
       "      <td>0.389</td>\n",
       "      <td>0.100</td>\n",
       "      <td>2</td>\n",
       "      <td>C11._.CD34_BMMC</td>\n",
       "      <td>18648</td>\n",
       "      <td>FAM41C</td>\n",
       "      <td>Exonic</td>\n",
       "      <td>18648</td>\n",
       "      <td>uc021oei.1</td>\n",
       "      <td>0.3852</td>\n",
       "      <td>3</td>\n",
       "    </tr>\n",
       "    <tr>\n",
       "      <th>Peak4</th>\n",
       "      <td>chr1</td>\n",
       "      <td>801001</td>\n",
       "      <td>801501</td>\n",
       "      <td>501</td>\n",
       "      <td>*</td>\n",
       "      <td>11.68117</td>\n",
       "      <td>0.608</td>\n",
       "      <td>0.317</td>\n",
       "      <td>2</td>\n",
       "      <td>C2._.PBMC</td>\n",
       "      <td>10930</td>\n",
       "      <td>FAM41C</td>\n",
       "      <td>Distal</td>\n",
       "      <td>10930</td>\n",
       "      <td>uc021oei.1</td>\n",
       "      <td>0.4371</td>\n",
       "      <td>4</td>\n",
       "    </tr>\n",
       "    <tr>\n",
       "      <th>Peak5</th>\n",
       "      <td>chr1</td>\n",
       "      <td>802866</td>\n",
       "      <td>803366</td>\n",
       "      <td>501</td>\n",
       "      <td>*</td>\n",
       "      <td>1.04622</td>\n",
       "      <td>0.323</td>\n",
       "      <td>0.051</td>\n",
       "      <td>2</td>\n",
       "      <td>C8._.1</td>\n",
       "      <td>9065</td>\n",
       "      <td>FAM41C</td>\n",
       "      <td>Distal</td>\n",
       "      <td>9065</td>\n",
       "      <td>uc021oei.1</td>\n",
       "      <td>0.4691</td>\n",
       "      <td>5</td>\n",
       "    </tr>\n",
       "    <tr>\n",
       "      <th>...</th>\n",
       "      <td>...</td>\n",
       "      <td>...</td>\n",
       "      <td>...</td>\n",
       "      <td>...</td>\n",
       "      <td>...</td>\n",
       "      <td>...</td>\n",
       "      <td>...</td>\n",
       "      <td>...</td>\n",
       "      <td>...</td>\n",
       "      <td>...</td>\n",
       "      <td>...</td>\n",
       "      <td>...</td>\n",
       "      <td>...</td>\n",
       "      <td>...</td>\n",
       "      <td>...</td>\n",
       "      <td>...</td>\n",
       "      <td>...</td>\n",
       "    </tr>\n",
       "    <tr>\n",
       "      <th>Peak140052</th>\n",
       "      <td>chrX</td>\n",
       "      <td>154840499</td>\n",
       "      <td>154840999</td>\n",
       "      <td>501</td>\n",
       "      <td>*</td>\n",
       "      <td>3.26447</td>\n",
       "      <td>0.701</td>\n",
       "      <td>0.326</td>\n",
       "      <td>2</td>\n",
       "      <td>C1._.Rep2</td>\n",
       "      <td>1872</td>\n",
       "      <td>TMLHE</td>\n",
       "      <td>Intronic</td>\n",
       "      <td>1872</td>\n",
       "      <td>uc004cin.3</td>\n",
       "      <td>0.4531</td>\n",
       "      <td>3343</td>\n",
       "    </tr>\n",
       "    <tr>\n",
       "      <th>Peak140053</th>\n",
       "      <td>chrX</td>\n",
       "      <td>154842402</td>\n",
       "      <td>154842902</td>\n",
       "      <td>501</td>\n",
       "      <td>*</td>\n",
       "      <td>6.73459</td>\n",
       "      <td>0.907</td>\n",
       "      <td>0.651</td>\n",
       "      <td>2</td>\n",
       "      <td>C7._.BMMC</td>\n",
       "      <td>29</td>\n",
       "      <td>TMLHE</td>\n",
       "      <td>Promoter</td>\n",
       "      <td>29</td>\n",
       "      <td>uc004cin.3</td>\n",
       "      <td>0.5928</td>\n",
       "      <td>3344</td>\n",
       "    </tr>\n",
       "    <tr>\n",
       "      <th>Peak140054</th>\n",
       "      <td>chrX</td>\n",
       "      <td>154912385</td>\n",
       "      <td>154912885</td>\n",
       "      <td>501</td>\n",
       "      <td>*</td>\n",
       "      <td>3.47502</td>\n",
       "      <td>0.389</td>\n",
       "      <td>0.080</td>\n",
       "      <td>2</td>\n",
       "      <td>C10._.CD34_BMMC</td>\n",
       "      <td>70012</td>\n",
       "      <td>TMLHE</td>\n",
       "      <td>Distal</td>\n",
       "      <td>70012</td>\n",
       "      <td>uc004cin.3</td>\n",
       "      <td>0.3593</td>\n",
       "      <td>3345</td>\n",
       "    </tr>\n",
       "    <tr>\n",
       "      <th>Peak140055</th>\n",
       "      <td>chrX</td>\n",
       "      <td>154997060</td>\n",
       "      <td>154997560</td>\n",
       "      <td>501</td>\n",
       "      <td>*</td>\n",
       "      <td>3.47961</td>\n",
       "      <td>0.389</td>\n",
       "      <td>0.100</td>\n",
       "      <td>2</td>\n",
       "      <td>C11._.CD34_BMMC</td>\n",
       "      <td>154687</td>\n",
       "      <td>TMLHE</td>\n",
       "      <td>Distal</td>\n",
       "      <td>140</td>\n",
       "      <td>uc004cin.3</td>\n",
       "      <td>0.5329</td>\n",
       "      <td>3346</td>\n",
       "    </tr>\n",
       "    <tr>\n",
       "      <th>Peak140056</th>\n",
       "      <td>chrX</td>\n",
       "      <td>154998097</td>\n",
       "      <td>154998597</td>\n",
       "      <td>501</td>\n",
       "      <td>*</td>\n",
       "      <td>2.68302</td>\n",
       "      <td>0.777</td>\n",
       "      <td>0.352</td>\n",
       "      <td>2</td>\n",
       "      <td>C8._.1</td>\n",
       "      <td>155724</td>\n",
       "      <td>TMLHE</td>\n",
       "      <td>Distal</td>\n",
       "      <td>895</td>\n",
       "      <td>uc004cin.3</td>\n",
       "      <td>0.4850</td>\n",
       "      <td>3347</td>\n",
       "    </tr>\n",
       "  </tbody>\n",
       "</table>\n",
       "<p>140056 rows × 17 columns</p>\n",
       "</div>"
      ],
      "text/plain": [
       "           seqnames      start        end  width strand     score  \\\n",
       "Peak1          chr1     752498     752998    501      *  43.81347   \n",
       "Peak2          chr1     762687     763187    501      *  42.00397   \n",
       "Peak3          chr1     793283     793783    501      *   3.47961   \n",
       "Peak4          chr1     801001     801501    501      *  11.68117   \n",
       "Peak5          chr1     802866     803366    501      *   1.04622   \n",
       "...             ...        ...        ...    ...    ...       ...   \n",
       "Peak140052     chrX  154840499  154840999    501      *   3.26447   \n",
       "Peak140053     chrX  154842402  154842902    501      *   6.73459   \n",
       "Peak140054     chrX  154912385  154912885    501      *   3.47502   \n",
       "Peak140055     chrX  154997060  154997560    501      *   3.47961   \n",
       "Peak140056     chrX  154998097  154998597    501      *   2.68302   \n",
       "\n",
       "            replicateScoreQuantile  groupScoreQuantile  Reproducibility  \\\n",
       "Peak1                        0.919               0.641                2   \n",
       "Peak2                        0.917               0.819                2   \n",
       "Peak3                        0.389               0.100                2   \n",
       "Peak4                        0.608               0.317                2   \n",
       "Peak5                        0.323               0.051                2   \n",
       "...                            ...                 ...              ...   \n",
       "Peak140052                   0.701               0.326                2   \n",
       "Peak140053                   0.907               0.651                2   \n",
       "Peak140054                   0.389               0.080                2   \n",
       "Peak140055                   0.389               0.100                2   \n",
       "Peak140056                   0.777               0.352                2   \n",
       "\n",
       "             GroupReplicate  distToGeneStart nearestGene  peakType  distToTSS  \\\n",
       "Peak1             C8._.BMMC            10153   LINC00115    Distal      10153   \n",
       "Peak2             C2._.PBMC               33   LINC01128  Promoter         33   \n",
       "Peak3       C11._.CD34_BMMC            18648      FAM41C    Exonic      18648   \n",
       "Peak4             C2._.PBMC            10930      FAM41C    Distal      10930   \n",
       "Peak5                C8._.1             9065      FAM41C    Distal       9065   \n",
       "...                     ...              ...         ...       ...        ...   \n",
       "Peak140052        C1._.Rep2             1872       TMLHE  Intronic       1872   \n",
       "Peak140053        C7._.BMMC               29       TMLHE  Promoter         29   \n",
       "Peak140054  C10._.CD34_BMMC            70012       TMLHE    Distal      70012   \n",
       "Peak140055  C11._.CD34_BMMC           154687       TMLHE    Distal        140   \n",
       "Peak140056           C8._.1           155724       TMLHE    Distal        895   \n",
       "\n",
       "            nearestTSS      GC   idx  \n",
       "Peak1       uc001aau.3  0.4830     1  \n",
       "Peak2       uc021oeh.1  0.6946     2  \n",
       "Peak3       uc021oei.1  0.3852     3  \n",
       "Peak4       uc021oei.1  0.4371     4  \n",
       "Peak5       uc021oei.1  0.4691     5  \n",
       "...                ...     ...   ...  \n",
       "Peak140052  uc004cin.3  0.4531  3343  \n",
       "Peak140053  uc004cin.3  0.5928  3344  \n",
       "Peak140054  uc004cin.3  0.3593  3345  \n",
       "Peak140055  uc004cin.3  0.5329  3346  \n",
       "Peak140056  uc004cin.3  0.4850  3347  \n",
       "\n",
       "[140056 rows x 17 columns]"
      ]
     },
     "execution_count": 15,
     "metadata": {},
     "output_type": "execute_result"
    }
   ],
   "source": [
    "peaks"
   ]
  },
  {
   "cell_type": "code",
   "execution_count": 16,
   "metadata": {
    "ExecuteTime": {
     "end_time": "2020-07-14T18:01:02.623677Z",
     "start_time": "2020-07-14T18:00:09.086225Z"
    }
   },
   "outputs": [],
   "source": [
    "counts = scipy.io.mmread(\n",
    "    os.path.join(path_data, \"peak_counts/counts.mtx.gz\")\n",
    ")"
   ]
  },
  {
   "cell_type": "markdown",
   "metadata": {},
   "source": [
    "# Construct AnnData"
   ]
  },
  {
   "cell_type": "code",
   "execution_count": 17,
   "metadata": {
    "ExecuteTime": {
     "end_time": "2020-07-14T18:08:26.837812Z",
     "start_time": "2020-07-14T18:08:22.734480Z"
    }
   },
   "outputs": [],
   "source": [
    "adata = sc.AnnData(counts.T)"
   ]
  },
  {
   "cell_type": "code",
   "execution_count": 18,
   "metadata": {
    "ExecuteTime": {
     "end_time": "2020-07-14T18:09:26.620453Z",
     "start_time": "2020-07-14T18:09:26.615419Z"
    }
   },
   "outputs": [
    {
     "data": {
      "text/plain": [
       "AnnData object with n_obs × n_vars = 10252 × 140056"
      ]
     },
     "execution_count": 18,
     "metadata": {},
     "output_type": "execute_result"
    }
   ],
   "source": [
    "adata"
   ]
  },
  {
   "cell_type": "code",
   "execution_count": 30,
   "metadata": {
    "ExecuteTime": {
     "end_time": "2020-07-14T18:10:26.038469Z",
     "start_time": "2020-07-14T18:10:26.034274Z"
    }
   },
   "outputs": [],
   "source": [
    "adata.obs_names = barcodes"
   ]
  },
  {
   "cell_type": "code",
   "execution_count": 31,
   "metadata": {
    "ExecuteTime": {
     "end_time": "2020-07-14T18:10:36.332170Z",
     "start_time": "2020-07-14T18:10:36.322616Z"
    }
   },
   "outputs": [],
   "source": [
    "adata.var_names = peaks.index"
   ]
  },
  {
   "cell_type": "code",
   "execution_count": 32,
   "metadata": {
    "ExecuteTime": {
     "end_time": "2020-07-14T18:10:53.709288Z",
     "start_time": "2020-07-14T18:10:53.659107Z"
    }
   },
   "outputs": [],
   "source": [
    "for col in ['distToGeneStart', 'nearestGene', 'peakType', 'distToTSS', 'nearestTSS','replicateScoreQuantile']:\n",
    "    adata.var[col] = peaks[col]"
   ]
  },
  {
   "cell_type": "code",
   "execution_count": 33,
   "metadata": {
    "ExecuteTime": {
     "end_time": "2020-07-14T18:10:55.293407Z",
     "start_time": "2020-07-14T18:10:55.289081Z"
    }
   },
   "outputs": [
    {
     "data": {
      "text/plain": [
       "AnnData object with n_obs × n_vars = 10252 × 140056\n",
       "    var: 'distToGeneStart', 'nearestGene', 'peakType', 'distToTSS', 'nearestTSS', 'replicateScoreQuantile'"
      ]
     },
     "execution_count": 33,
     "metadata": {},
     "output_type": "execute_result"
    }
   ],
   "source": [
    "adata"
   ]
  },
  {
   "cell_type": "markdown",
   "metadata": {},
   "source": [
    "# SVD"
   ]
  },
  {
   "cell_type": "code",
   "execution_count": 36,
   "metadata": {
    "ExecuteTime": {
     "end_time": "2020-07-14T18:12:53.005042Z",
     "start_time": "2020-07-14T18:12:52.930952Z"
    }
   },
   "outputs": [
    {
     "data": {
      "text/plain": [
       "array([[-4.75637895,  0.07347651, -0.13985019, ..., -0.01962053,\n",
       "         0.42157495, -0.23507256],\n",
       "       [-4.07384723, -0.1500116 , -0.74147561, ...,  0.14479857,\n",
       "        -0.24458991,  0.4953523 ],\n",
       "       [-4.92897629, -0.50433939, -0.28561483, ...,  0.26294178,\n",
       "         0.36299984,  0.10210388],\n",
       "       ...,\n",
       "       [-4.64616509, -1.30464916,  0.97586733, ...,  0.52565242,\n",
       "         0.04280754, -0.34710468],\n",
       "       [-4.63851827, -0.07540143,  0.78932042, ..., -0.14946311,\n",
       "        -0.68226775,  0.3636415 ],\n",
       "       [-4.81774298, -0.8386447 ,  0.7484478 , ...,  0.57868731,\n",
       "         0.53564468,  0.76345212]])"
      ]
     },
     "execution_count": 36,
     "metadata": {},
     "output_type": "execute_result"
    }
   ],
   "source": [
    "pd.read_csv(\n",
    "    os.path.join(path_data, \"svd.csv\"),\n",
    "    index_col=0\n",
    ").loc[adata.obs_names, : ].values"
   ]
  },
  {
   "cell_type": "code",
   "execution_count": 55,
   "metadata": {
    "ExecuteTime": {
     "end_time": "2020-07-14T18:28:41.579701Z",
     "start_time": "2020-07-14T18:28:41.516129Z"
    }
   },
   "outputs": [],
   "source": [
    "adata.obsm[\"X_svd\"] = pd.read_csv(\n",
    "    os.path.join(path_data, \"svd.csv\"),\n",
    "    index_col=0\n",
    ").values"
   ]
  },
  {
   "cell_type": "markdown",
   "metadata": {},
   "source": [
    "# UMAP"
   ]
  },
  {
   "cell_type": "code",
   "execution_count": 56,
   "metadata": {
    "ExecuteTime": {
     "end_time": "2020-07-14T18:28:42.272776Z",
     "start_time": "2020-07-14T18:28:42.254847Z"
    }
   },
   "outputs": [
    {
     "data": {
      "text/plain": [
       "array([[-2.26928096,  0.20979017],\n",
       "       [ 0.71228047,  9.70183169],\n",
       "       [ 6.15852602,  0.40604782],\n",
       "       ...,\n",
       "       [ 6.17014034, -1.75824511],\n",
       "       [-0.83147876,  0.15523243],\n",
       "       [ 7.01735361, -0.67253066]])"
      ]
     },
     "execution_count": 56,
     "metadata": {},
     "output_type": "execute_result"
    }
   ],
   "source": [
    "pd.read_csv(\n",
    "    os.path.join(path_data, \"umap.csv\"),\n",
    "    index_col=0\n",
    ").values"
   ]
  },
  {
   "cell_type": "code",
   "execution_count": 57,
   "metadata": {
    "ExecuteTime": {
     "end_time": "2020-07-14T18:28:42.629565Z",
     "start_time": "2020-07-14T18:28:42.615058Z"
    }
   },
   "outputs": [],
   "source": [
    "adata.obsm[\"umap\"] = pd.read_csv(\n",
    "    os.path.join(path_data, \"umap.csv\"),\n",
    "    index_col=0\n",
    ").values"
   ]
  },
  {
   "cell_type": "markdown",
   "metadata": {},
   "source": [
    "# Metadata"
   ]
  },
  {
   "cell_type": "code",
   "execution_count": 41,
   "metadata": {
    "ExecuteTime": {
     "end_time": "2020-07-14T18:18:33.010426Z",
     "start_time": "2020-07-14T18:18:32.983642Z"
    }
   },
   "outputs": [],
   "source": [
    "df_meta = pd.read_csv(\n",
    "    os.path.join(path_data, \"cell_metadata.csv\"),\n",
    "    index_col=0\n",
    ")"
   ]
  },
  {
   "cell_type": "code",
   "execution_count": 42,
   "metadata": {
    "ExecuteTime": {
     "end_time": "2020-07-14T18:18:35.931814Z",
     "start_time": "2020-07-14T18:18:35.901468Z"
    }
   },
   "outputs": [
    {
     "data": {
      "text/html": [
       "<div>\n",
       "<style scoped>\n",
       "    .dataframe tbody tr th:only-of-type {\n",
       "        vertical-align: middle;\n",
       "    }\n",
       "\n",
       "    .dataframe tbody tr th {\n",
       "        vertical-align: top;\n",
       "    }\n",
       "\n",
       "    .dataframe thead th {\n",
       "        text-align: right;\n",
       "    }\n",
       "</style>\n",
       "<table border=\"1\" class=\"dataframe\">\n",
       "  <thead>\n",
       "    <tr style=\"text-align: right;\">\n",
       "      <th></th>\n",
       "      <th>Sample</th>\n",
       "      <th>TSSEnrichment</th>\n",
       "      <th>ReadsInTSS</th>\n",
       "      <th>ReadsInPromoter</th>\n",
       "      <th>ReadsInBlacklist</th>\n",
       "      <th>PromoterRatio</th>\n",
       "      <th>PassQC</th>\n",
       "      <th>NucleosomeRatio</th>\n",
       "      <th>nMultiFrags</th>\n",
       "      <th>nMonoFrags</th>\n",
       "      <th>nFrags</th>\n",
       "      <th>nDiFrags</th>\n",
       "      <th>DoubletScore</th>\n",
       "      <th>DoubletEnrichment</th>\n",
       "      <th>BlacklistRatio</th>\n",
       "      <th>Clusters</th>\n",
       "    </tr>\n",
       "  </thead>\n",
       "  <tbody>\n",
       "    <tr>\n",
       "      <th>BMMC#TTATGTCAGTGATTAG-1</th>\n",
       "      <td>BMMC</td>\n",
       "      <td>7.149</td>\n",
       "      <td>1148</td>\n",
       "      <td>4306</td>\n",
       "      <td>611</td>\n",
       "      <td>0.082210</td>\n",
       "      <td>1</td>\n",
       "      <td>3.155665</td>\n",
       "      <td>3782</td>\n",
       "      <td>6302</td>\n",
       "      <td>26189</td>\n",
       "      <td>16105</td>\n",
       "      <td>224.741729</td>\n",
       "      <td>9.5</td>\n",
       "      <td>0.011665</td>\n",
       "      <td>C11</td>\n",
       "    </tr>\n",
       "    <tr>\n",
       "      <th>BMMC#GCATTGAAGATTCCGT-1</th>\n",
       "      <td>BMMC</td>\n",
       "      <td>4.505</td>\n",
       "      <td>389</td>\n",
       "      <td>1686</td>\n",
       "      <td>311</td>\n",
       "      <td>0.044389</td>\n",
       "      <td>1</td>\n",
       "      <td>3.636475</td>\n",
       "      <td>3109</td>\n",
       "      <td>4096</td>\n",
       "      <td>18991</td>\n",
       "      <td>11786</td>\n",
       "      <td>0.000000</td>\n",
       "      <td>0.2</td>\n",
       "      <td>0.008188</td>\n",
       "      <td>C1</td>\n",
       "    </tr>\n",
       "    <tr>\n",
       "      <th>BMMC#TATGTTCAGGGTTCCC-1</th>\n",
       "      <td>BMMC</td>\n",
       "      <td>6.946</td>\n",
       "      <td>663</td>\n",
       "      <td>2812</td>\n",
       "      <td>475</td>\n",
       "      <td>0.076847</td>\n",
       "      <td>1</td>\n",
       "      <td>4.212536</td>\n",
       "      <td>3847</td>\n",
       "      <td>3510</td>\n",
       "      <td>18296</td>\n",
       "      <td>10939</td>\n",
       "      <td>122.190340</td>\n",
       "      <td>6.7</td>\n",
       "      <td>0.012981</td>\n",
       "      <td>C5</td>\n",
       "    </tr>\n",
       "    <tr>\n",
       "      <th>BMMC#AGTTACGAGAACGTCG-1</th>\n",
       "      <td>BMMC</td>\n",
       "      <td>9.160</td>\n",
       "      <td>1101</td>\n",
       "      <td>4455</td>\n",
       "      <td>341</td>\n",
       "      <td>0.130195</td>\n",
       "      <td>1</td>\n",
       "      <td>2.570326</td>\n",
       "      <td>3596</td>\n",
       "      <td>4792</td>\n",
       "      <td>17109</td>\n",
       "      <td>8721</td>\n",
       "      <td>216.949897</td>\n",
       "      <td>9.3</td>\n",
       "      <td>0.009966</td>\n",
       "      <td>C11</td>\n",
       "    </tr>\n",
       "    <tr>\n",
       "      <th>BMMC#GCACCTTAGACTAGCG-1</th>\n",
       "      <td>BMMC</td>\n",
       "      <td>4.846</td>\n",
       "      <td>531</td>\n",
       "      <td>2586</td>\n",
       "      <td>390</td>\n",
       "      <td>0.080176</td>\n",
       "      <td>1</td>\n",
       "      <td>1.983719</td>\n",
       "      <td>2969</td>\n",
       "      <td>5405</td>\n",
       "      <td>16127</td>\n",
       "      <td>7753</td>\n",
       "      <td>0.000000</td>\n",
       "      <td>0.7</td>\n",
       "      <td>0.012092</td>\n",
       "      <td>C1</td>\n",
       "    </tr>\n",
       "    <tr>\n",
       "      <th>...</th>\n",
       "      <td>...</td>\n",
       "      <td>...</td>\n",
       "      <td>...</td>\n",
       "      <td>...</td>\n",
       "      <td>...</td>\n",
       "      <td>...</td>\n",
       "      <td>...</td>\n",
       "      <td>...</td>\n",
       "      <td>...</td>\n",
       "      <td>...</td>\n",
       "      <td>...</td>\n",
       "      <td>...</td>\n",
       "      <td>...</td>\n",
       "      <td>...</td>\n",
       "      <td>...</td>\n",
       "      <td>...</td>\n",
       "    </tr>\n",
       "    <tr>\n",
       "      <th>PBMC#GCTGCGAAGATCCGAG-1</th>\n",
       "      <td>PBMC</td>\n",
       "      <td>24.356</td>\n",
       "      <td>246</td>\n",
       "      <td>840</td>\n",
       "      <td>24</td>\n",
       "      <td>0.404624</td>\n",
       "      <td>1</td>\n",
       "      <td>1.135802</td>\n",
       "      <td>184</td>\n",
       "      <td>486</td>\n",
       "      <td>1038</td>\n",
       "      <td>368</td>\n",
       "      <td>0.000000</td>\n",
       "      <td>1.4</td>\n",
       "      <td>0.011561</td>\n",
       "      <td>C5</td>\n",
       "    </tr>\n",
       "    <tr>\n",
       "      <th>PBMC#GCAGCTGGTGGCCTTG-1</th>\n",
       "      <td>PBMC</td>\n",
       "      <td>22.537</td>\n",
       "      <td>239</td>\n",
       "      <td>768</td>\n",
       "      <td>30</td>\n",
       "      <td>0.370299</td>\n",
       "      <td>1</td>\n",
       "      <td>1.138144</td>\n",
       "      <td>205</td>\n",
       "      <td>485</td>\n",
       "      <td>1037</td>\n",
       "      <td>347</td>\n",
       "      <td>0.000000</td>\n",
       "      <td>0.2</td>\n",
       "      <td>0.014465</td>\n",
       "      <td>C7</td>\n",
       "    </tr>\n",
       "    <tr>\n",
       "      <th>PBMC#GCAGATTGTACGCAAG-1</th>\n",
       "      <td>PBMC</td>\n",
       "      <td>20.146</td>\n",
       "      <td>234</td>\n",
       "      <td>801</td>\n",
       "      <td>18</td>\n",
       "      <td>0.387706</td>\n",
       "      <td>1</td>\n",
       "      <td>0.952741</td>\n",
       "      <td>139</td>\n",
       "      <td>529</td>\n",
       "      <td>1033</td>\n",
       "      <td>365</td>\n",
       "      <td>0.000000</td>\n",
       "      <td>0.1</td>\n",
       "      <td>0.008712</td>\n",
       "      <td>C7</td>\n",
       "    </tr>\n",
       "    <tr>\n",
       "      <th>PBMC#TTCGTTACATTGAACC-1</th>\n",
       "      <td>PBMC</td>\n",
       "      <td>30.198</td>\n",
       "      <td>305</td>\n",
       "      <td>948</td>\n",
       "      <td>23</td>\n",
       "      <td>0.458858</td>\n",
       "      <td>1</td>\n",
       "      <td>0.704620</td>\n",
       "      <td>154</td>\n",
       "      <td>606</td>\n",
       "      <td>1033</td>\n",
       "      <td>273</td>\n",
       "      <td>0.000000</td>\n",
       "      <td>0.6</td>\n",
       "      <td>0.011133</td>\n",
       "      <td>C10</td>\n",
       "    </tr>\n",
       "    <tr>\n",
       "      <th>PBMC#CGCTATCGTGAGGTCA-1</th>\n",
       "      <td>PBMC</td>\n",
       "      <td>21.485</td>\n",
       "      <td>217</td>\n",
       "      <td>729</td>\n",
       "      <td>30</td>\n",
       "      <td>0.363772</td>\n",
       "      <td>1</td>\n",
       "      <td>1.277273</td>\n",
       "      <td>191</td>\n",
       "      <td>440</td>\n",
       "      <td>1002</td>\n",
       "      <td>371</td>\n",
       "      <td>0.000000</td>\n",
       "      <td>0.1</td>\n",
       "      <td>0.014970</td>\n",
       "      <td>C7</td>\n",
       "    </tr>\n",
       "  </tbody>\n",
       "</table>\n",
       "<p>10252 rows × 16 columns</p>\n",
       "</div>"
      ],
      "text/plain": [
       "                        Sample  TSSEnrichment  ReadsInTSS  ReadsInPromoter  \\\n",
       "BMMC#TTATGTCAGTGATTAG-1   BMMC          7.149        1148             4306   \n",
       "BMMC#GCATTGAAGATTCCGT-1   BMMC          4.505         389             1686   \n",
       "BMMC#TATGTTCAGGGTTCCC-1   BMMC          6.946         663             2812   \n",
       "BMMC#AGTTACGAGAACGTCG-1   BMMC          9.160        1101             4455   \n",
       "BMMC#GCACCTTAGACTAGCG-1   BMMC          4.846         531             2586   \n",
       "...                        ...            ...         ...              ...   \n",
       "PBMC#GCTGCGAAGATCCGAG-1   PBMC         24.356         246              840   \n",
       "PBMC#GCAGCTGGTGGCCTTG-1   PBMC         22.537         239              768   \n",
       "PBMC#GCAGATTGTACGCAAG-1   PBMC         20.146         234              801   \n",
       "PBMC#TTCGTTACATTGAACC-1   PBMC         30.198         305              948   \n",
       "PBMC#CGCTATCGTGAGGTCA-1   PBMC         21.485         217              729   \n",
       "\n",
       "                         ReadsInBlacklist  PromoterRatio  PassQC  \\\n",
       "BMMC#TTATGTCAGTGATTAG-1               611       0.082210       1   \n",
       "BMMC#GCATTGAAGATTCCGT-1               311       0.044389       1   \n",
       "BMMC#TATGTTCAGGGTTCCC-1               475       0.076847       1   \n",
       "BMMC#AGTTACGAGAACGTCG-1               341       0.130195       1   \n",
       "BMMC#GCACCTTAGACTAGCG-1               390       0.080176       1   \n",
       "...                                   ...            ...     ...   \n",
       "PBMC#GCTGCGAAGATCCGAG-1                24       0.404624       1   \n",
       "PBMC#GCAGCTGGTGGCCTTG-1                30       0.370299       1   \n",
       "PBMC#GCAGATTGTACGCAAG-1                18       0.387706       1   \n",
       "PBMC#TTCGTTACATTGAACC-1                23       0.458858       1   \n",
       "PBMC#CGCTATCGTGAGGTCA-1                30       0.363772       1   \n",
       "\n",
       "                         NucleosomeRatio  nMultiFrags  nMonoFrags  nFrags  \\\n",
       "BMMC#TTATGTCAGTGATTAG-1         3.155665         3782        6302   26189   \n",
       "BMMC#GCATTGAAGATTCCGT-1         3.636475         3109        4096   18991   \n",
       "BMMC#TATGTTCAGGGTTCCC-1         4.212536         3847        3510   18296   \n",
       "BMMC#AGTTACGAGAACGTCG-1         2.570326         3596        4792   17109   \n",
       "BMMC#GCACCTTAGACTAGCG-1         1.983719         2969        5405   16127   \n",
       "...                                  ...          ...         ...     ...   \n",
       "PBMC#GCTGCGAAGATCCGAG-1         1.135802          184         486    1038   \n",
       "PBMC#GCAGCTGGTGGCCTTG-1         1.138144          205         485    1037   \n",
       "PBMC#GCAGATTGTACGCAAG-1         0.952741          139         529    1033   \n",
       "PBMC#TTCGTTACATTGAACC-1         0.704620          154         606    1033   \n",
       "PBMC#CGCTATCGTGAGGTCA-1         1.277273          191         440    1002   \n",
       "\n",
       "                         nDiFrags  DoubletScore  DoubletEnrichment  \\\n",
       "BMMC#TTATGTCAGTGATTAG-1     16105    224.741729                9.5   \n",
       "BMMC#GCATTGAAGATTCCGT-1     11786      0.000000                0.2   \n",
       "BMMC#TATGTTCAGGGTTCCC-1     10939    122.190340                6.7   \n",
       "BMMC#AGTTACGAGAACGTCG-1      8721    216.949897                9.3   \n",
       "BMMC#GCACCTTAGACTAGCG-1      7753      0.000000                0.7   \n",
       "...                           ...           ...                ...   \n",
       "PBMC#GCTGCGAAGATCCGAG-1       368      0.000000                1.4   \n",
       "PBMC#GCAGCTGGTGGCCTTG-1       347      0.000000                0.2   \n",
       "PBMC#GCAGATTGTACGCAAG-1       365      0.000000                0.1   \n",
       "PBMC#TTCGTTACATTGAACC-1       273      0.000000                0.6   \n",
       "PBMC#CGCTATCGTGAGGTCA-1       371      0.000000                0.1   \n",
       "\n",
       "                         BlacklistRatio Clusters  \n",
       "BMMC#TTATGTCAGTGATTAG-1        0.011665      C11  \n",
       "BMMC#GCATTGAAGATTCCGT-1        0.008188       C1  \n",
       "BMMC#TATGTTCAGGGTTCCC-1        0.012981       C5  \n",
       "BMMC#AGTTACGAGAACGTCG-1        0.009966      C11  \n",
       "BMMC#GCACCTTAGACTAGCG-1        0.012092       C1  \n",
       "...                                 ...      ...  \n",
       "PBMC#GCTGCGAAGATCCGAG-1        0.011561       C5  \n",
       "PBMC#GCAGCTGGTGGCCTTG-1        0.014465       C7  \n",
       "PBMC#GCAGATTGTACGCAAG-1        0.008712       C7  \n",
       "PBMC#TTCGTTACATTGAACC-1        0.011133      C10  \n",
       "PBMC#CGCTATCGTGAGGTCA-1        0.014970       C7  \n",
       "\n",
       "[10252 rows x 16 columns]"
      ]
     },
     "execution_count": 42,
     "metadata": {},
     "output_type": "execute_result"
    }
   ],
   "source": [
    "df_meta"
   ]
  },
  {
   "cell_type": "code",
   "execution_count": 43,
   "metadata": {
    "ExecuteTime": {
     "end_time": "2020-07-14T18:18:52.481253Z",
     "start_time": "2020-07-14T18:18:52.466530Z"
    }
   },
   "outputs": [],
   "source": [
    "for col in df_meta.columns:\n",
    "    adata.obs[col] = df_meta[col].values"
   ]
  },
  {
   "cell_type": "markdown",
   "metadata": {},
   "source": [
    "# Gene Scores"
   ]
  },
  {
   "cell_type": "code",
   "execution_count": 45,
   "metadata": {
    "ExecuteTime": {
     "end_time": "2020-07-14T18:24:24.524193Z",
     "start_time": "2020-07-14T18:23:01.981934Z"
    }
   },
   "outputs": [],
   "source": [
    "df_gene_scores = pd.read_csv(\n",
    "    os.path.join(path_data, \"gene_scores.csv.gz\"),\n",
    "    index_col=0\n",
    ").T"
   ]
  },
  {
   "cell_type": "code",
   "execution_count": 46,
   "metadata": {
    "ExecuteTime": {
     "end_time": "2020-07-14T18:24:24.556461Z",
     "start_time": "2020-07-14T18:24:24.525820Z"
    }
   },
   "outputs": [
    {
     "data": {
      "text/html": [
       "<div>\n",
       "<style scoped>\n",
       "    .dataframe tbody tr th:only-of-type {\n",
       "        vertical-align: middle;\n",
       "    }\n",
       "\n",
       "    .dataframe tbody tr th {\n",
       "        vertical-align: top;\n",
       "    }\n",
       "\n",
       "    .dataframe thead th {\n",
       "        text-align: right;\n",
       "    }\n",
       "</style>\n",
       "<table border=\"1\" class=\"dataframe\">\n",
       "  <thead>\n",
       "    <tr style=\"text-align: right;\">\n",
       "      <th></th>\n",
       "      <th>DDX11L1</th>\n",
       "      <th>WASH7P</th>\n",
       "      <th>OR4F5</th>\n",
       "      <th>LOC729737</th>\n",
       "      <th>LOC100288069</th>\n",
       "      <th>LINC01128</th>\n",
       "      <th>LINC00115</th>\n",
       "      <th>FAM41C</th>\n",
       "      <th>LINC02593</th>\n",
       "      <th>SAMD11</th>\n",
       "      <th>...</th>\n",
       "      <th>RBMY2EP</th>\n",
       "      <th>TTTY13</th>\n",
       "      <th>RBMY1E</th>\n",
       "      <th>PRY2</th>\n",
       "      <th>TTTY5</th>\n",
       "      <th>RBMY2FP</th>\n",
       "      <th>RBMY1F</th>\n",
       "      <th>PRY</th>\n",
       "      <th>DAZ1</th>\n",
       "      <th>DAZ2</th>\n",
       "    </tr>\n",
       "  </thead>\n",
       "  <tbody>\n",
       "    <tr>\n",
       "      <th>BMMC#TTATGTCAGTGATTAG-1</th>\n",
       "      <td>0.0</td>\n",
       "      <td>0.0</td>\n",
       "      <td>0.0</td>\n",
       "      <td>0.0</td>\n",
       "      <td>0.0</td>\n",
       "      <td>0.0</td>\n",
       "      <td>0.0</td>\n",
       "      <td>0.000</td>\n",
       "      <td>0.000</td>\n",
       "      <td>0.000</td>\n",
       "      <td>...</td>\n",
       "      <td>0.0</td>\n",
       "      <td>0.0</td>\n",
       "      <td>0.0</td>\n",
       "      <td>0.0</td>\n",
       "      <td>0.0</td>\n",
       "      <td>0.0</td>\n",
       "      <td>0.0</td>\n",
       "      <td>0.0</td>\n",
       "      <td>0.0</td>\n",
       "      <td>0.0</td>\n",
       "    </tr>\n",
       "    <tr>\n",
       "      <th>BMMC#GCATTGAAGATTCCGT-1</th>\n",
       "      <td>0.0</td>\n",
       "      <td>0.0</td>\n",
       "      <td>0.0</td>\n",
       "      <td>0.0</td>\n",
       "      <td>0.0</td>\n",
       "      <td>0.0</td>\n",
       "      <td>0.0</td>\n",
       "      <td>1.062</td>\n",
       "      <td>0.000</td>\n",
       "      <td>0.000</td>\n",
       "      <td>...</td>\n",
       "      <td>0.0</td>\n",
       "      <td>0.0</td>\n",
       "      <td>0.0</td>\n",
       "      <td>0.0</td>\n",
       "      <td>0.0</td>\n",
       "      <td>0.0</td>\n",
       "      <td>0.0</td>\n",
       "      <td>0.0</td>\n",
       "      <td>0.0</td>\n",
       "      <td>0.0</td>\n",
       "    </tr>\n",
       "    <tr>\n",
       "      <th>BMMC#TATGTTCAGGGTTCCC-1</th>\n",
       "      <td>0.0</td>\n",
       "      <td>0.0</td>\n",
       "      <td>0.0</td>\n",
       "      <td>0.0</td>\n",
       "      <td>0.0</td>\n",
       "      <td>0.0</td>\n",
       "      <td>0.0</td>\n",
       "      <td>0.000</td>\n",
       "      <td>1.557</td>\n",
       "      <td>0.723</td>\n",
       "      <td>...</td>\n",
       "      <td>0.0</td>\n",
       "      <td>0.0</td>\n",
       "      <td>0.0</td>\n",
       "      <td>0.0</td>\n",
       "      <td>0.0</td>\n",
       "      <td>0.0</td>\n",
       "      <td>0.0</td>\n",
       "      <td>0.0</td>\n",
       "      <td>0.0</td>\n",
       "      <td>0.0</td>\n",
       "    </tr>\n",
       "    <tr>\n",
       "      <th>BMMC#AGTTACGAGAACGTCG-1</th>\n",
       "      <td>0.0</td>\n",
       "      <td>0.0</td>\n",
       "      <td>0.0</td>\n",
       "      <td>0.0</td>\n",
       "      <td>0.0</td>\n",
       "      <td>0.0</td>\n",
       "      <td>0.0</td>\n",
       "      <td>0.000</td>\n",
       "      <td>0.000</td>\n",
       "      <td>0.000</td>\n",
       "      <td>...</td>\n",
       "      <td>0.0</td>\n",
       "      <td>0.0</td>\n",
       "      <td>0.0</td>\n",
       "      <td>0.0</td>\n",
       "      <td>0.0</td>\n",
       "      <td>0.0</td>\n",
       "      <td>0.0</td>\n",
       "      <td>0.0</td>\n",
       "      <td>0.0</td>\n",
       "      <td>0.0</td>\n",
       "    </tr>\n",
       "    <tr>\n",
       "      <th>BMMC#GCACCTTAGACTAGCG-1</th>\n",
       "      <td>0.0</td>\n",
       "      <td>0.0</td>\n",
       "      <td>0.0</td>\n",
       "      <td>0.0</td>\n",
       "      <td>0.0</td>\n",
       "      <td>0.0</td>\n",
       "      <td>0.0</td>\n",
       "      <td>0.000</td>\n",
       "      <td>0.000</td>\n",
       "      <td>0.000</td>\n",
       "      <td>...</td>\n",
       "      <td>0.0</td>\n",
       "      <td>0.0</td>\n",
       "      <td>0.0</td>\n",
       "      <td>0.0</td>\n",
       "      <td>0.0</td>\n",
       "      <td>0.0</td>\n",
       "      <td>0.0</td>\n",
       "      <td>0.0</td>\n",
       "      <td>0.0</td>\n",
       "      <td>0.0</td>\n",
       "    </tr>\n",
       "    <tr>\n",
       "      <th>...</th>\n",
       "      <td>...</td>\n",
       "      <td>...</td>\n",
       "      <td>...</td>\n",
       "      <td>...</td>\n",
       "      <td>...</td>\n",
       "      <td>...</td>\n",
       "      <td>...</td>\n",
       "      <td>...</td>\n",
       "      <td>...</td>\n",
       "      <td>...</td>\n",
       "      <td>...</td>\n",
       "      <td>...</td>\n",
       "      <td>...</td>\n",
       "      <td>...</td>\n",
       "      <td>...</td>\n",
       "      <td>...</td>\n",
       "      <td>...</td>\n",
       "      <td>...</td>\n",
       "      <td>...</td>\n",
       "      <td>...</td>\n",
       "      <td>...</td>\n",
       "    </tr>\n",
       "    <tr>\n",
       "      <th>PBMC#GCTGCGAAGATCCGAG-1</th>\n",
       "      <td>0.0</td>\n",
       "      <td>0.0</td>\n",
       "      <td>0.0</td>\n",
       "      <td>0.0</td>\n",
       "      <td>0.0</td>\n",
       "      <td>0.0</td>\n",
       "      <td>0.0</td>\n",
       "      <td>0.000</td>\n",
       "      <td>0.000</td>\n",
       "      <td>0.000</td>\n",
       "      <td>...</td>\n",
       "      <td>0.0</td>\n",
       "      <td>0.0</td>\n",
       "      <td>0.0</td>\n",
       "      <td>0.0</td>\n",
       "      <td>0.0</td>\n",
       "      <td>0.0</td>\n",
       "      <td>0.0</td>\n",
       "      <td>0.0</td>\n",
       "      <td>0.0</td>\n",
       "      <td>0.0</td>\n",
       "    </tr>\n",
       "    <tr>\n",
       "      <th>PBMC#GCAGCTGGTGGCCTTG-1</th>\n",
       "      <td>0.0</td>\n",
       "      <td>0.0</td>\n",
       "      <td>0.0</td>\n",
       "      <td>0.0</td>\n",
       "      <td>0.0</td>\n",
       "      <td>0.0</td>\n",
       "      <td>0.0</td>\n",
       "      <td>0.000</td>\n",
       "      <td>0.000</td>\n",
       "      <td>0.000</td>\n",
       "      <td>...</td>\n",
       "      <td>0.0</td>\n",
       "      <td>0.0</td>\n",
       "      <td>0.0</td>\n",
       "      <td>0.0</td>\n",
       "      <td>0.0</td>\n",
       "      <td>0.0</td>\n",
       "      <td>0.0</td>\n",
       "      <td>0.0</td>\n",
       "      <td>0.0</td>\n",
       "      <td>0.0</td>\n",
       "    </tr>\n",
       "    <tr>\n",
       "      <th>PBMC#GCAGATTGTACGCAAG-1</th>\n",
       "      <td>0.0</td>\n",
       "      <td>0.0</td>\n",
       "      <td>0.0</td>\n",
       "      <td>0.0</td>\n",
       "      <td>0.0</td>\n",
       "      <td>0.0</td>\n",
       "      <td>0.0</td>\n",
       "      <td>0.000</td>\n",
       "      <td>0.000</td>\n",
       "      <td>0.000</td>\n",
       "      <td>...</td>\n",
       "      <td>0.0</td>\n",
       "      <td>0.0</td>\n",
       "      <td>0.0</td>\n",
       "      <td>0.0</td>\n",
       "      <td>0.0</td>\n",
       "      <td>0.0</td>\n",
       "      <td>0.0</td>\n",
       "      <td>0.0</td>\n",
       "      <td>0.0</td>\n",
       "      <td>0.0</td>\n",
       "    </tr>\n",
       "    <tr>\n",
       "      <th>PBMC#TTCGTTACATTGAACC-1</th>\n",
       "      <td>0.0</td>\n",
       "      <td>0.0</td>\n",
       "      <td>0.0</td>\n",
       "      <td>0.0</td>\n",
       "      <td>0.0</td>\n",
       "      <td>0.0</td>\n",
       "      <td>0.0</td>\n",
       "      <td>0.000</td>\n",
       "      <td>0.000</td>\n",
       "      <td>0.000</td>\n",
       "      <td>...</td>\n",
       "      <td>0.0</td>\n",
       "      <td>0.0</td>\n",
       "      <td>0.0</td>\n",
       "      <td>0.0</td>\n",
       "      <td>0.0</td>\n",
       "      <td>0.0</td>\n",
       "      <td>0.0</td>\n",
       "      <td>0.0</td>\n",
       "      <td>0.0</td>\n",
       "      <td>0.0</td>\n",
       "    </tr>\n",
       "    <tr>\n",
       "      <th>PBMC#CGCTATCGTGAGGTCA-1</th>\n",
       "      <td>0.0</td>\n",
       "      <td>0.0</td>\n",
       "      <td>0.0</td>\n",
       "      <td>0.0</td>\n",
       "      <td>0.0</td>\n",
       "      <td>0.0</td>\n",
       "      <td>0.0</td>\n",
       "      <td>0.000</td>\n",
       "      <td>0.000</td>\n",
       "      <td>0.000</td>\n",
       "      <td>...</td>\n",
       "      <td>0.0</td>\n",
       "      <td>0.0</td>\n",
       "      <td>0.0</td>\n",
       "      <td>0.0</td>\n",
       "      <td>0.0</td>\n",
       "      <td>0.0</td>\n",
       "      <td>0.0</td>\n",
       "      <td>0.0</td>\n",
       "      <td>0.0</td>\n",
       "      <td>0.0</td>\n",
       "    </tr>\n",
       "  </tbody>\n",
       "</table>\n",
       "<p>10252 rows × 23179 columns</p>\n",
       "</div>"
      ],
      "text/plain": [
       "                         DDX11L1  WASH7P  OR4F5  LOC729737  LOC100288069  \\\n",
       "BMMC#TTATGTCAGTGATTAG-1      0.0     0.0    0.0        0.0           0.0   \n",
       "BMMC#GCATTGAAGATTCCGT-1      0.0     0.0    0.0        0.0           0.0   \n",
       "BMMC#TATGTTCAGGGTTCCC-1      0.0     0.0    0.0        0.0           0.0   \n",
       "BMMC#AGTTACGAGAACGTCG-1      0.0     0.0    0.0        0.0           0.0   \n",
       "BMMC#GCACCTTAGACTAGCG-1      0.0     0.0    0.0        0.0           0.0   \n",
       "...                          ...     ...    ...        ...           ...   \n",
       "PBMC#GCTGCGAAGATCCGAG-1      0.0     0.0    0.0        0.0           0.0   \n",
       "PBMC#GCAGCTGGTGGCCTTG-1      0.0     0.0    0.0        0.0           0.0   \n",
       "PBMC#GCAGATTGTACGCAAG-1      0.0     0.0    0.0        0.0           0.0   \n",
       "PBMC#TTCGTTACATTGAACC-1      0.0     0.0    0.0        0.0           0.0   \n",
       "PBMC#CGCTATCGTGAGGTCA-1      0.0     0.0    0.0        0.0           0.0   \n",
       "\n",
       "                         LINC01128  LINC00115  FAM41C  LINC02593  SAMD11  ...  \\\n",
       "BMMC#TTATGTCAGTGATTAG-1        0.0        0.0   0.000      0.000   0.000  ...   \n",
       "BMMC#GCATTGAAGATTCCGT-1        0.0        0.0   1.062      0.000   0.000  ...   \n",
       "BMMC#TATGTTCAGGGTTCCC-1        0.0        0.0   0.000      1.557   0.723  ...   \n",
       "BMMC#AGTTACGAGAACGTCG-1        0.0        0.0   0.000      0.000   0.000  ...   \n",
       "BMMC#GCACCTTAGACTAGCG-1        0.0        0.0   0.000      0.000   0.000  ...   \n",
       "...                            ...        ...     ...        ...     ...  ...   \n",
       "PBMC#GCTGCGAAGATCCGAG-1        0.0        0.0   0.000      0.000   0.000  ...   \n",
       "PBMC#GCAGCTGGTGGCCTTG-1        0.0        0.0   0.000      0.000   0.000  ...   \n",
       "PBMC#GCAGATTGTACGCAAG-1        0.0        0.0   0.000      0.000   0.000  ...   \n",
       "PBMC#TTCGTTACATTGAACC-1        0.0        0.0   0.000      0.000   0.000  ...   \n",
       "PBMC#CGCTATCGTGAGGTCA-1        0.0        0.0   0.000      0.000   0.000  ...   \n",
       "\n",
       "                         RBMY2EP  TTTY13  RBMY1E  PRY2  TTTY5  RBMY2FP  \\\n",
       "BMMC#TTATGTCAGTGATTAG-1      0.0     0.0     0.0   0.0    0.0      0.0   \n",
       "BMMC#GCATTGAAGATTCCGT-1      0.0     0.0     0.0   0.0    0.0      0.0   \n",
       "BMMC#TATGTTCAGGGTTCCC-1      0.0     0.0     0.0   0.0    0.0      0.0   \n",
       "BMMC#AGTTACGAGAACGTCG-1      0.0     0.0     0.0   0.0    0.0      0.0   \n",
       "BMMC#GCACCTTAGACTAGCG-1      0.0     0.0     0.0   0.0    0.0      0.0   \n",
       "...                          ...     ...     ...   ...    ...      ...   \n",
       "PBMC#GCTGCGAAGATCCGAG-1      0.0     0.0     0.0   0.0    0.0      0.0   \n",
       "PBMC#GCAGCTGGTGGCCTTG-1      0.0     0.0     0.0   0.0    0.0      0.0   \n",
       "PBMC#GCAGATTGTACGCAAG-1      0.0     0.0     0.0   0.0    0.0      0.0   \n",
       "PBMC#TTCGTTACATTGAACC-1      0.0     0.0     0.0   0.0    0.0      0.0   \n",
       "PBMC#CGCTATCGTGAGGTCA-1      0.0     0.0     0.0   0.0    0.0      0.0   \n",
       "\n",
       "                         RBMY1F  PRY  DAZ1  DAZ2  \n",
       "BMMC#TTATGTCAGTGATTAG-1     0.0  0.0   0.0   0.0  \n",
       "BMMC#GCATTGAAGATTCCGT-1     0.0  0.0   0.0   0.0  \n",
       "BMMC#TATGTTCAGGGTTCCC-1     0.0  0.0   0.0   0.0  \n",
       "BMMC#AGTTACGAGAACGTCG-1     0.0  0.0   0.0   0.0  \n",
       "BMMC#GCACCTTAGACTAGCG-1     0.0  0.0   0.0   0.0  \n",
       "...                         ...  ...   ...   ...  \n",
       "PBMC#GCTGCGAAGATCCGAG-1     0.0  0.0   0.0   0.0  \n",
       "PBMC#GCAGCTGGTGGCCTTG-1     0.0  0.0   0.0   0.0  \n",
       "PBMC#GCAGATTGTACGCAAG-1     0.0  0.0   0.0   0.0  \n",
       "PBMC#TTCGTTACATTGAACC-1     0.0  0.0   0.0   0.0  \n",
       "PBMC#CGCTATCGTGAGGTCA-1     0.0  0.0   0.0   0.0  \n",
       "\n",
       "[10252 rows x 23179 columns]"
      ]
     },
     "execution_count": 46,
     "metadata": {},
     "output_type": "execute_result"
    }
   ],
   "source": [
    "df_gene_scores"
   ]
  },
  {
   "cell_type": "code",
   "execution_count": 49,
   "metadata": {
    "ExecuteTime": {
     "end_time": "2020-07-14T18:27:08.722762Z",
     "start_time": "2020-07-14T18:27:08.719211Z"
    }
   },
   "outputs": [],
   "source": [
    "adata.obsm['GeneScores'] = df_gene_scores.values\n",
    "adata.uns['GeneScoresColumns'] = df_gene_scores.columns.values"
   ]
  },
  {
   "cell_type": "code",
   "execution_count": 53,
   "metadata": {
    "ExecuteTime": {
     "end_time": "2020-07-14T18:28:05.743602Z",
     "start_time": "2020-07-14T18:28:05.738729Z"
    }
   },
   "outputs": [
    {
     "data": {
      "text/plain": [
       "AnnData object with n_obs × n_vars = 10252 × 140056\n",
       "    obs: 'Sample', 'TSSEnrichment', 'ReadsInTSS', 'ReadsInPromoter', 'ReadsInBlacklist', 'PromoterRatio', 'PassQC', 'NucleosomeRatio', 'nMultiFrags', 'nMonoFrags', 'nFrags', 'nDiFrags', 'DoubletScore', 'DoubletEnrichment', 'BlacklistRatio', 'Clusters'\n",
       "    var: 'distToGeneStart', 'nearestGene', 'peakType', 'distToTSS', 'nearestTSS', 'replicateScoreQuantile'\n",
       "    uns: 'GeneScoresColumns'\n",
       "    obsm: 'X_svd', 'GeneScores', 'UMAP'"
      ]
     },
     "execution_count": 53,
     "metadata": {},
     "output_type": "execute_result"
    }
   ],
   "source": [
    "adata"
   ]
  },
  {
   "cell_type": "code",
   "execution_count": 58,
   "metadata": {
    "ExecuteTime": {
     "end_time": "2020-07-14T18:28:51.923480Z",
     "start_time": "2020-07-14T18:28:51.757677Z"
    }
   },
   "outputs": [
    {
     "data": {
      "image/png": "[encoded data removed]",
      "text/plain": [
       "<Figure size 432x288 with 1 Axes>"
      ]
     },
     "metadata": {},
     "output_type": "display_data"
    }
   ],
   "source": [
    "sc.pl.umap(adata)"
   ]
  },
  {
   "cell_type": "code",
   "execution_count": 62,
   "metadata": {
    "ExecuteTime": {
     "end_time": "2020-07-14T18:31:07.876628Z",
     "start_time": "2020-07-14T18:31:06.877876Z"
    }
   },
   "outputs": [],
   "source": [
    "# a writer for type <class 'scipy.sparse.coo.coo_matrix'> has not been implemented yet.\n",
    "from scipy.sparse import csr_matrix\n",
    "\n",
    "adata.X = csr_matrix(adata.X)"
   ]
  },
  {
   "cell_type": "code",
   "execution_count": 63,
   "metadata": {
    "ExecuteTime": {
     "end_time": "2020-07-14T18:31:16.592670Z",
     "start_time": "2020-07-14T18:31:08.260421Z"
    }
   },
   "outputs": [],
   "source": [
    "adata.write(\n",
    "    os.path.join(path_data, \"preprocessed.h5ad\")\n",
    ")"
   ]
  },
  {
   "cell_type": "code",
   "execution_count": null,
   "metadata": {},
   "outputs": [],
   "source": []
  }
 ],
 "metadata": {
  "kernelspec": {
   "display_name": "Python 3",
   "language": "python",
   "name": "python3"
  },
  "language_info": {
   "codemirror_mode": {
    "name": "ipython",
    "version": 3
   },
   "file_extension": ".py",
   "mimetype": "text/x-python",
   "name": "python",
   "nbconvert_exporter": "python",
   "pygments_lexer": "ipython3",
   "version": "3.7.6"
  },
  "toc": {
   "base_numbering": 1,
   "nav_menu": {},
   "number_sections": true,
   "sideBar": true,
   "skip_h1_title": false,
   "title_cell": "Table of Contents",
   "title_sidebar": "Contents",
   "toc_cell": false,
   "toc_position": {},
   "toc_section_display": true,
   "toc_window_display": false
  }
 },
 "nbformat": 4,
 "nbformat_minor": 4
}
